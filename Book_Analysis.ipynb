{
 "cells": [
  {
   "cell_type": "markdown",
   "id": "8d16a6d7-3344-4ece-8754-c0b6d161871d",
   "metadata": {},
   "source": [
    "# 1. Load the Book"
   ]
  },
  {
   "cell_type": "code",
   "execution_count": 1,
   "id": "dd3e801b-23b2-4f11-b364-f50966f3641b",
   "metadata": {},
   "outputs": [],
   "source": [
    "with open(\"miracle_in_the_andes.txt\", \"r\", encoding='utf-8') as file:\n",
    "    book = file.read()"
   ]
  },
  {
   "cell_type": "code",
   "execution_count": 2,
   "id": "e669fe39-60fa-4484-bafc-c132ae5d913e",
   "metadata": {},
   "outputs": [
    {
     "data": {
      "text/plain": [
       "str"
      ]
     },
     "execution_count": 2,
     "metadata": {},
     "output_type": "execute_result"
    }
   ],
   "source": [
    "type(book)"
   ]
  },
  {
   "cell_type": "markdown",
   "id": "a88326d2-1190-4f61-a7c9-2b59a2ffee5a",
   "metadata": {},
   "source": [
    "# 2. How many chapters?"
   ]
  },
  {
   "cell_type": "markdown",
   "id": "fc3bc94d-e4f4-476f-bb22-57a55484e6ee",
   "metadata": {},
   "source": [
    "### 2.1 With String Methods"
   ]
  },
  {
   "cell_type": "code",
   "execution_count": 3,
   "id": "28320749-b09d-4f43-aa03-cf164731eef7",
   "metadata": {},
   "outputs": [
    {
     "data": {
      "text/plain": [
       "10"
      ]
     },
     "execution_count": 3,
     "metadata": {},
     "output_type": "execute_result"
    }
   ],
   "source": [
    "book.count(\"Chapter \")"
   ]
  },
  {
   "cell_type": "markdown",
   "id": "9b7a6987-1460-4788-b4e4-b9e1548ae35a",
   "metadata": {},
   "source": [
    "### 2.2 With Regex Methods"
   ]
  },
  {
   "cell_type": "code",
   "execution_count": 4,
   "id": "6bf0bfaf-fff5-4371-b382-2fa578295157",
   "metadata": {},
   "outputs": [],
   "source": [
    "# standard python library\n",
    "import re"
   ]
  },
  {
   "cell_type": "code",
   "execution_count": 5,
   "id": "f4fb0b91-c90b-46a4-bb6c-9917689a480b",
   "metadata": {},
   "outputs": [
    {
     "data": {
      "text/plain": [
       "re.compile(r'Chapter [0-9]+', re.UNICODE)"
      ]
     },
     "execution_count": 5,
     "metadata": {},
     "output_type": "execute_result"
    }
   ],
   "source": [
    "pattern = re.compile(\"Chapter [0-9]+\")\n",
    "pattern"
   ]
  },
  {
   "cell_type": "code",
   "execution_count": 6,
   "id": "908bd953-3dfd-43ff-bf0e-6a8c638c0b9b",
   "metadata": {},
   "outputs": [
    {
     "data": {
      "text/plain": [
       "['Chapter 1',\n",
       " 'Chapter 2',\n",
       " 'Chapter 3',\n",
       " 'Chapter 4',\n",
       " 'Chapter 5',\n",
       " 'Chapter 6',\n",
       " 'Chapter 7',\n",
       " 'Chapter 8',\n",
       " 'Chapter 9',\n",
       " 'Chapter 10']"
      ]
     },
     "execution_count": 6,
     "metadata": {},
     "output_type": "execute_result"
    }
   ],
   "source": [
    "chapters = re.findall(pattern, book)\n",
    "chapters"
   ]
  },
  {
   "cell_type": "code",
   "execution_count": 7,
   "id": "1d207075-b0eb-49bf-bb8b-091a2bc0a63c",
   "metadata": {},
   "outputs": [
    {
     "data": {
      "text/plain": [
       "10"
      ]
     },
     "execution_count": 7,
     "metadata": {},
     "output_type": "execute_result"
    }
   ],
   "source": [
    "len(chapters)"
   ]
  },
  {
   "cell_type": "markdown",
   "id": "4d9a17c2-c359-47a2-945b-cc161a488b58",
   "metadata": {},
   "source": [
    "# 3.  Which sentences has 'love' used?"
   ]
  },
  {
   "cell_type": "code",
   "execution_count": 31,
   "id": "271ecb5d-5f40-4e95-93be-0562da26e135",
   "metadata": {},
   "outputs": [
    {
     "data": {
      "text/plain": [
       "67"
      ]
     },
     "execution_count": 31,
     "metadata": {},
     "output_type": "execute_result"
    }
   ],
   "source": [
    "pattern = re.compile(\"[A-Z]{1}[^.]*[^a-zA-Z]+love[^a-zA-Z]+[^.]*.\")\n",
    "findings = re.findall(pattern, book)\n",
    "len(findings)"
   ]
  },
  {
   "cell_type": "code",
   "execution_count": 33,
   "id": "31570650-8de5-4787-943e-a88a518bbc2d",
   "metadata": {},
   "outputs": [
    {
     "data": {
      "text/plain": [
       "['As a young man, of course, I could not put these things into words, but I knew, and my teammates knew, that there was something special about the game, and under the guidance of the Christian Brothers we developed a passionate love for the sport that shaped our friendships and our lives.',\n",
       " 'Guido and I grew up together, playing soccer and sharing a love of motorcycles, cars, and auto racing.',\n",
       " 'Under the guidance of the Christian Brothers, both of us grew to love the game of rugby with a consuming passion.',\n",
       " 'That rowdiness came to an abrupt end for Guido in 1969, when he met and fell in love with the beautiful daughter of a Chilean diplomat.',\n",
       " 'I believe he had a great hunger for the love and comforts of a family that was happy and whole.',\n",
       " 'He shared, with my father and me, a love for cars and driving, and he loved going with us to auto races.',\n",
       " 'The house had a beautiful view of the sea, and this more than anything made my mother love it.',\n",
       " 'She was a true tower of strength, but her strength was always based in warmth and love and because of her love and protection I grew up believing the world was a safe, familiar place.',\n",
       " 'He had given us a life of comfort and privilege such as his own father never could have imagined, he had provided for us and protected us in the best way he could, and though he was not an emotionally expressive man, he always showed his love for us subtly, quietly, and in ways that were true to the man he was.',\n",
       " 'Out of love for his family he had arranged in his mind a future that would keep us all safe, happy, and always together.']"
      ]
     },
     "execution_count": 33,
     "metadata": {},
     "output_type": "execute_result"
    }
   ],
   "source": [
    "findings[:10]"
   ]
  },
  {
   "cell_type": "markdown",
   "id": "7a5c4783-db4a-4550-893a-62c93df05bcb",
   "metadata": {},
   "source": [
    "# 4. What are the most used words?"
   ]
  },
  {
   "cell_type": "code",
   "execution_count": 15,
   "id": "19c4a6bb-25c2-4739-83f0-0711713796ba",
   "metadata": {},
   "outputs": [
    {
     "data": {
      "text/plain": [
       "85493"
      ]
     },
     "execution_count": 15,
     "metadata": {},
     "output_type": "execute_result"
    }
   ],
   "source": [
    "# Not the best way\n",
    "words = book.split()\n",
    "len(words)"
   ]
  },
  {
   "cell_type": "code",
   "execution_count": 14,
   "id": "bf475554-7af5-401b-8b51-4d33d76d4b6d",
   "metadata": {},
   "outputs": [
    {
     "data": {
      "text/plain": [
       "86798"
      ]
     },
     "execution_count": 14,
     "metadata": {},
     "output_type": "execute_result"
    }
   ],
   "source": [
    "pattern = re.compile(\"[a-zA-Z]+\")\n",
    "findings = re.findall(pattern, book.lower())\n",
    "len(findings)"
   ]
  },
  {
   "cell_type": "code",
   "execution_count": 16,
   "id": "06a3e4e9-4cac-477a-89b1-638abcc4f580",
   "metadata": {},
   "outputs": [],
   "source": [
    "word_counts = {}\n",
    "for word in findings:\n",
    "    if word in word_counts.keys():\n",
    "        word_counts[word] += 1\n",
    "    else:\n",
    "        word_counts[word] = 1"
   ]
  },
  {
   "cell_type": "code",
   "execution_count": 28,
   "id": "923f8750-ae14-4238-a3cf-beacf7d476dc",
   "metadata": {},
   "outputs": [],
   "source": [
    "# word_counts"
   ]
  },
  {
   "cell_type": "code",
   "execution_count": 26,
   "id": "31370efb-838e-4c9c-9c6c-031a61e47f17",
   "metadata": {},
   "outputs": [
    {
     "data": {
      "text/plain": [
       "[(5346, 'the'),\n",
       " (2795, 'and'),\n",
       " (2729, 'i'),\n",
       " (2400, 'to'),\n",
       " (2060, 'of'),\n",
       " (1566, 'a'),\n",
       " (1430, 'was'),\n",
       " (1419, 'in'),\n",
       " (1226, 'we'),\n",
       " (1169, 'my')]"
      ]
     },
     "execution_count": 26,
     "metadata": {},
     "output_type": "execute_result"
    }
   ],
   "source": [
    "# Sort the list\n",
    "\n",
    "word_counts_list = [(value, key) for (key, value) in word_counts.items()]\n",
    "sorted_word_counts_list = sorted(word_counts_list, reverse=True)\n",
    "sorted_word_counts_list[:10]"
   ]
  },
  {
   "cell_type": "code",
   "execution_count": null,
   "id": "1ce715a7-c061-4b24-a193-f1e084778b50",
   "metadata": {},
   "outputs": [],
   "source": []
  }
 ],
 "metadata": {
  "kernelspec": {
   "display_name": "Python 3 (ipykernel)",
   "language": "python",
   "name": "python3"
  },
  "language_info": {
   "codemirror_mode": {
    "name": "ipython",
    "version": 3
   },
   "file_extension": ".py",
   "mimetype": "text/x-python",
   "name": "python",
   "nbconvert_exporter": "python",
   "pygments_lexer": "ipython3",
   "version": "3.10.9"
  }
 },
 "nbformat": 4,
 "nbformat_minor": 5
}
